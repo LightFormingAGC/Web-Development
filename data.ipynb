{
 "cells": [
  {
   "cell_type": "code",
   "execution_count": 3,
   "metadata": {},
   "outputs": [],
   "source": [
    "# Energy: XOM, CVX;\n",
    "# Financial: JPM, BRK.A\n",
    "# Consumer: AMZN, MCD\n",
    "# Technology: AAPL, MSFT, TSLA\n",
    "# Communication: META, GOOG\n",
    "\n"
   ]
  },
  {
   "cell_type": "code",
   "execution_count": 4,
   "metadata": {},
   "outputs": [
    {
     "name": "stdout",
     "output_type": "stream",
     "text": [
      "[*********************100%***********************]  11 of 11 completed\n"
     ]
    },
    {
     "data": {
      "text/html": [
       "<div>\n",
       "<style scoped>\n",
       "    .dataframe tbody tr th:only-of-type {\n",
       "        vertical-align: middle;\n",
       "    }\n",
       "\n",
       "    .dataframe tbody tr th {\n",
       "        vertical-align: top;\n",
       "    }\n",
       "\n",
       "    .dataframe thead th {\n",
       "        text-align: right;\n",
       "    }\n",
       "</style>\n",
       "<table border=\"1\" class=\"dataframe\">\n",
       "  <thead>\n",
       "    <tr style=\"text-align: right;\">\n",
       "      <th></th>\n",
       "      <th>AAPL</th>\n",
       "      <th>AMZN</th>\n",
       "      <th>BRK-A</th>\n",
       "      <th>CVX</th>\n",
       "      <th>GOOG</th>\n",
       "      <th>JPM</th>\n",
       "      <th>MCD</th>\n",
       "      <th>META</th>\n",
       "      <th>MSFT</th>\n",
       "      <th>TSLA</th>\n",
       "      <th>XOM</th>\n",
       "    </tr>\n",
       "    <tr>\n",
       "      <th>Date</th>\n",
       "      <th></th>\n",
       "      <th></th>\n",
       "      <th></th>\n",
       "      <th></th>\n",
       "      <th></th>\n",
       "      <th></th>\n",
       "      <th></th>\n",
       "      <th></th>\n",
       "      <th></th>\n",
       "      <th></th>\n",
       "      <th></th>\n",
       "    </tr>\n",
       "  </thead>\n",
       "  <tbody>\n",
       "    <tr>\n",
       "      <th>2012-05</th>\n",
       "      <td>16.122007</td>\n",
       "      <td>10.6925</td>\n",
       "      <td>119850.0</td>\n",
       "      <td>63.480202</td>\n",
       "      <td>14.953949</td>\n",
       "      <td>24.797680</td>\n",
       "      <td>66.271309</td>\n",
       "      <td>38.230000</td>\n",
       "      <td>23.721563</td>\n",
       "      <td>1.837333</td>\n",
       "      <td>52.266579</td>\n",
       "    </tr>\n",
       "    <tr>\n",
       "      <th>2012-05</th>\n",
       "      <td>17.061275</td>\n",
       "      <td>10.9055</td>\n",
       "      <td>120220.0</td>\n",
       "      <td>64.273209</td>\n",
       "      <td>15.295419</td>\n",
       "      <td>24.072041</td>\n",
       "      <td>67.318657</td>\n",
       "      <td>34.029999</td>\n",
       "      <td>24.110575</td>\n",
       "      <td>1.918000</td>\n",
       "      <td>52.632244</td>\n",
       "    </tr>\n",
       "    <tr>\n",
       "      <th>2012-05</th>\n",
       "      <td>16.930264</td>\n",
       "      <td>10.7665</td>\n",
       "      <td>120550.0</td>\n",
       "      <td>64.034660</td>\n",
       "      <td>14.963912</td>\n",
       "      <td>25.182709</td>\n",
       "      <td>67.370285</td>\n",
       "      <td>31.000000</td>\n",
       "      <td>24.118681</td>\n",
       "      <td>2.053333</td>\n",
       "      <td>52.574520</td>\n",
       "    </tr>\n",
       "    <tr>\n",
       "      <th>2012-05</th>\n",
       "      <td>17.343365</td>\n",
       "      <td>10.8640</td>\n",
       "      <td>120455.0</td>\n",
       "      <td>63.828342</td>\n",
       "      <td>15.179603</td>\n",
       "      <td>25.367821</td>\n",
       "      <td>67.473572</td>\n",
       "      <td>32.000000</td>\n",
       "      <td>23.591890</td>\n",
       "      <td>2.068000</td>\n",
       "      <td>52.632244</td>\n",
       "    </tr>\n",
       "    <tr>\n",
       "      <th>2012-05</th>\n",
       "      <td>17.184084</td>\n",
       "      <td>10.7620</td>\n",
       "      <td>120217.0</td>\n",
       "      <td>64.511772</td>\n",
       "      <td>15.035145</td>\n",
       "      <td>25.153091</td>\n",
       "      <td>67.510422</td>\n",
       "      <td>33.029999</td>\n",
       "      <td>23.559475</td>\n",
       "      <td>2.018667</td>\n",
       "      <td>52.997913</td>\n",
       "    </tr>\n",
       "  </tbody>\n",
       "</table>\n",
       "</div>"
      ],
      "text/plain": [
       "              AAPL     AMZN     BRK-A        CVX       GOOG        JPM  \\\n",
       "Date                                                                     \n",
       "2012-05  16.122007  10.6925  119850.0  63.480202  14.953949  24.797680   \n",
       "2012-05  17.061275  10.9055  120220.0  64.273209  15.295419  24.072041   \n",
       "2012-05  16.930264  10.7665  120550.0  64.034660  14.963912  25.182709   \n",
       "2012-05  17.343365  10.8640  120455.0  63.828342  15.179603  25.367821   \n",
       "2012-05  17.184084  10.7620  120217.0  64.511772  15.035145  25.153091   \n",
       "\n",
       "               MCD       META       MSFT      TSLA        XOM  \n",
       "Date                                                           \n",
       "2012-05  66.271309  38.230000  23.721563  1.837333  52.266579  \n",
       "2012-05  67.318657  34.029999  24.110575  1.918000  52.632244  \n",
       "2012-05  67.370285  31.000000  24.118681  2.053333  52.574520  \n",
       "2012-05  67.473572  32.000000  23.591890  2.068000  52.632244  \n",
       "2012-05  67.510422  33.029999  23.559475  2.018667  52.997913  "
      ]
     },
     "execution_count": 4,
     "metadata": {},
     "output_type": "execute_result"
    }
   ],
   "source": [
    "import yfinance as yf\n",
    "yf.pdr_override()\n",
    "from inspect import trace\n",
    "import pandas as pd\n",
    "import numpy as np\n",
    "from pandas_datareader import data as wb\n",
    "import math\n",
    "import matplotlib.pyplot as plt\n",
    "from statsmodels.tsa.vector_ar.vecm import coint_johansen\n",
    "from tqdm.auto import tqdm\n",
    "\n",
    "\n",
    "tickers = ['XOM', 'CVX', 'JPM', 'BRK-A', 'AMZN', 'MCD', 'AAPL', 'MSFT', 'TSLA', 'META', 'GOOG']\n",
    "data = wb.DataReader(tickers, data_source='yahoo', interval='1d')['Adj Close']\n",
    "data = data.dropna()\n",
    "# date only keep year and month\n",
    "data.index = data.index.strftime('%Y-%m')\n",
    "data.head()\n"
   ]
  },
  {
   "cell_type": "code",
   "execution_count": 5,
   "metadata": {},
   "outputs": [],
   "source": [
    "# past five years only\n",
    "data = data.loc['2018-03':]\n",
    "\n",
    "# index to columns\n",
    "data = data.reset_index()\n",
    "data.to_csv('price.csv', index=False)"
   ]
  },
  {
   "cell_type": "code",
   "execution_count": 6,
   "metadata": {},
   "outputs": [
    {
     "name": "stdout",
     "output_type": "stream",
     "text": [
      "[*********************100%***********************]  1 of 1 completed\n"
     ]
    }
   ],
   "source": [
    "IXIC = wb.DataReader('QQQ', data_source='yahoo', interval='1d')['Adj Close']\n",
    "IXIC = IXIC.loc['2018-03-13':]\n"
   ]
  },
  {
   "cell_type": "code",
   "execution_count": 7,
   "metadata": {},
   "outputs": [],
   "source": [
    "# five years log return comparison\n",
    "\n",
    "Rel_Perf = []\n",
    "Log_Return = []\n",
    "for tick in tickers:\n",
    "    total_log_return_tick = np.log(data[tick]/data[tick].shift(1)).sum()\n",
    "    Log_Return.append(total_log_return_tick)\n",
    "    total_log_return_ixic = np.log(IXIC/IXIC.shift(1)).sum()\n",
    "    # avg of diff\n",
    "    Rel_Perf.append((total_log_return_tick - total_log_return_ixic)*100)\n",
    "    "
   ]
  },
  {
   "cell_type": "code",
   "execution_count": 8,
   "metadata": {},
   "outputs": [],
   "source": [
    "# make another dataframe\n",
    "# columns: tickers, category, Market Cap, Total log return of last year, location, relative percentage performance to the Nasdaq Composite in the past 1 year\n",
    "\n",
    "df = pd.DataFrame(columns=['Ticker', 'Category', 'Market_Cap_B', '5Y Log Return', 'Headquarter', 'Rel_Perf_Pct'])\n",
    "df['Ticker'] = tickers\n",
    "df['Category'] = ['Energy', 'Energy', 'Financial', 'Financial', 'Consumer', 'Consumer', 'Technology', 'Technology', 'Technology', 'Communication', 'Communication']\n",
    "\n",
    "Location = ['TX', 'CA', 'NY', 'NE', 'WA', 'IL', 'CA', ' WA', 'CA', 'CA', 'CA']\n",
    "df['Headquarter'] = Location\n",
    "\n",
    "mkt_cap_til_031323 = [\t\n",
    "'433.72', '302.61','386.32', '663.62', '947.15', '192.44', '2380', '1890', '546.73', '469.01', '1170']\n",
    "df['Market_Cap_B'] = mkt_cap_til_031323\n",
    "\n",
    "df['5Y Log Return'] = Log_Return\n",
    "df['Rel_Perf_Pct'] = Rel_Perf\n"
   ]
  },
  {
   "cell_type": "code",
   "execution_count": 9,
   "metadata": {},
   "outputs": [],
   "source": [
    "df.to_csv('company_info.csv', index=False)"
   ]
  },
  {
   "cell_type": "code",
   "execution_count": null,
   "metadata": {},
   "outputs": [],
   "source": []
  }
 ],
 "metadata": {
  "kernelspec": {
   "display_name": "Python 3",
   "language": "python",
   "name": "python3"
  },
  "language_info": {
   "codemirror_mode": {
    "name": "ipython",
    "version": 3
   },
   "file_extension": ".py",
   "mimetype": "text/x-python",
   "name": "python",
   "nbconvert_exporter": "python",
   "pygments_lexer": "ipython3",
   "version": "3.9.7"
  },
  "orig_nbformat": 4
 },
 "nbformat": 4,
 "nbformat_minor": 2
}
